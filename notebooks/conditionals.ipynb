{
 "cells": [
  {
   "cell_type": "markdown",
   "metadata": {},
   "source": [
    "# Conditional Statements"
   ]
  },
  {
   "cell_type": "markdown",
   "metadata": {},
   "source": [
    "There are plenty of times when we'll want our programs to be able to take actions that depend on certain conditions being met. We want our programs to make decisions. In Python, doing this is simple - we use an `if` statement."
   ]
  },
  {
   "cell_type": "code",
   "execution_count": 20,
   "metadata": {
    "collapsed": true
   },
   "outputs": [],
   "source": [
    "def even_or_odd(n):\n",
    "    #A function that returns a string depending on the argument.\n",
    "    if n % 2 == 0:\n",
    "        #Only executes if n is even\n",
    "        return \"Even\"\n",
    "    elif n % 2 == 1:\n",
    "        #Only executes if n is odd\n",
    "        return \"Odd\"\n",
    "    else:\n",
    "        #And if n is neither even nor odd...\n",
    "        return \"That doesn't work\""
   ]
  },
  {
   "cell_type": "code",
   "execution_count": 21,
   "metadata": {
    "collapsed": false
   },
   "outputs": [
    {
     "data": {
      "text/plain": [
       "'Odd'"
      ]
     },
     "execution_count": 21,
     "metadata": {},
     "output_type": "execute_result"
    }
   ],
   "source": [
    "even_or_odd(3)"
   ]
  },
  {
   "cell_type": "code",
   "execution_count": 22,
   "metadata": {
    "collapsed": false
   },
   "outputs": [
    {
     "data": {
      "text/plain": [
       "'Even'"
      ]
     },
     "execution_count": 22,
     "metadata": {},
     "output_type": "execute_result"
    }
   ],
   "source": [
    "even_or_odd(4)"
   ]
  },
  {
   "cell_type": "code",
   "execution_count": 23,
   "metadata": {
    "collapsed": false
   },
   "outputs": [
    {
     "data": {
      "text/plain": [
       "\"That doesn't work\""
      ]
     },
     "execution_count": 23,
     "metadata": {},
     "output_type": "execute_result"
    }
   ],
   "source": [
    "even_or_odd(1.5)"
   ]
  },
  {
   "cell_type": "markdown",
   "metadata": {},
   "source": [
    "You can see we've defined a function named `even_or_odd` with a parameter `n`. Our first block starts with `if` and a test condition, which *must* have a True/False value. If the condition is met, the interpreter proceeds to execute that block. If the condition is not met, the interpreter moves on to the next block, `elif`, short for __el__se __if__, which does the same thing as if. Finally, if neither condition is met, the interpreter executes the `else` block."
   ]
  },
  {
   "cell_type": "markdown",
   "metadata": {},
   "source": [
    "`if` statements also have some surprising behaviors you may run into. For example:"
   ]
  },
  {
   "cell_type": "code",
   "execution_count": 34,
   "metadata": {
    "collapsed": false
   },
   "outputs": [
    {
     "name": "stdout",
     "output_type": "stream",
     "text": [
      "True True True False\n"
     ]
    }
   ],
   "source": [
    "#Any nonzero number will evaluate to True when considered as a boolean.\n",
    "print(bool(6), bool(-9), bool(10101010), bool(0))"
   ]
  },
  {
   "cell_type": "code",
   "execution_count": 35,
   "metadata": {
    "collapsed": false
   },
   "outputs": [
    {
     "name": "stdout",
     "output_type": "stream",
     "text": [
      "True True True False\n"
     ]
    }
   ],
   "source": [
    "#Any nonempty string, even the word \"False\" will evaluate to True when considered as a boolean.\n",
    "print(bool(\"Drake\"), bool(\"True\"), bool(\"False\"), bool(\"\"))"
   ]
  },
  {
   "cell_type": "markdown",
   "metadata": {},
   "source": [
    "You can see the complete list of these evaluations [here](https://docs.python.org/3.5/library/stdtypes.html).\n",
    "\n",
    "We can take advantage of this behavior to simplify our function from earlier:"
   ]
  },
  {
   "cell_type": "code",
   "execution_count": 14,
   "metadata": {
    "collapsed": false
   },
   "outputs": [
    {
     "data": {
      "text/plain": [
       "True"
      ]
     },
     "execution_count": 14,
     "metadata": {},
     "output_type": "execute_result"
    }
   ],
   "source": [
    "def is_odd(n):\n",
    "    #returns False if n % 2 is 0, True otherwise.\n",
    "    return bool(n % 2)\n",
    "  \n",
    "\n",
    "is_odd(5)"
   ]
  },
  {
   "cell_type": "code",
   "execution_count": null,
   "metadata": {
    "collapsed": true
   },
   "outputs": [],
   "source": []
  }
 ],
 "metadata": {
  "kernelspec": {
   "display_name": "Python 3",
   "language": "python",
   "name": "python3"
  },
  "language_info": {
   "codemirror_mode": {
    "name": "ipython",
    "version": 3
   },
   "file_extension": ".py",
   "mimetype": "text/x-python",
   "name": "python",
   "nbconvert_exporter": "python",
   "pygments_lexer": "ipython3",
   "version": "3.5.2"
  }
 },
 "nbformat": 4,
 "nbformat_minor": 0
}
