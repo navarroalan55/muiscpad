{
 "cells": [
  {
   "cell_type": "markdown",
   "metadata": {
    "collapsed": true
   },
   "source": [
    "# Dictionaries"
   ]
  },
  {
   "cell_type": "markdown",
   "metadata": {},
   "source": [
    "At this point, you should be familiar with Python's implementation of lists. Dictionaries behave like lists for the most part, with a few exceptions. Perhaps the biggest difference between dictionaries and lists is that dictionaries are indexed by a _key_. The key can be any type of Python object, but it needs to be unique."
   ]
  },
  {
   "cell_type": "markdown",
   "metadata": {},
   "source": [
    "We can create a dictionary using curly brackets and key:value pairs as follows:"
   ]
  },
  {
   "cell_type": "code",
   "execution_count": 1,
   "metadata": {
    "collapsed": false
   },
   "outputs": [
    {
     "name": "stdout",
     "output_type": "stream",
     "text": [
      "Dave\nEnrico\n35\nMale\n"
     ]
    }
   ],
   "source": [
    "d = {'First': 'Dave', 'Last': 'Enrico', 'Age': 35, 'Gender': 'Male'}\n",
    "\n",
    "print(d['First'])\n",
    "print(d['Last'])\n",
    "print(d['Age'])\n",
    "print(d['Gender'])"
   ]
  },
  {
   "cell_type": "markdown",
   "metadata": {},
   "source": [
    "You might think we can do this more elegantly with iteration:"
   ]
  },
  {
   "cell_type": "code",
   "execution_count": 12,
   "metadata": {
    "collapsed": false
   },
   "outputs": [
    {
     "name": "stdout",
     "output_type": "stream",
     "text": [
      "Gender\n",
      "Last\n",
      "First\n",
      "Age\n"
     ]
    }
   ],
   "source": [
    "d = {'First': 'Dave', 'Last': 'Enrico', 'Age': 35, 'Gender': 'Male'}\n",
    "for value in d:\n",
    "    print(value)"
   ]
  },
  {
   "cell_type": "markdown",
   "metadata": {},
   "source": [
    "But two things happen - you don't get the values you're looking for, and the entries don't appear in the order you might expect. By default, dictionaries have an arbitrary order, and they iterate over keys, not values. \n",
    "\n",
    "__Note:__ If the order is important to you, you can create an _ordered dictionary_, but that's a recent Python feature that this tutorial won't go into."
   ]
  },
  {
   "cell_type": "markdown",
   "metadata": {},
   "source": [
    "If you're interested in getting the _values_, we have options; in this example, we use the keys() method of the dictionary to generate a list of _just the keys_ and iterate over that, using each key to reference the value we're looking for:"
   ]
  },
  {
   "cell_type": "code",
   "execution_count": 13,
   "metadata": {
    "collapsed": false
   },
   "outputs": [
    {
     "name": "stdout",
     "output_type": "stream",
     "text": [
      "Male\n",
      "Enrico\n",
      "Dave\n",
      "35\n"
     ]
    }
   ],
   "source": [
    "d = {'First': 'Dave', 'Last': 'Enrico', 'Age': 35, 'Gender': 'Male'}\n",
    "\n",
    "for key in d.keys():\n",
    "    print(d[key])"
   ]
  },
  {
   "cell_type": "markdown",
   "metadata": {},
   "source": [
    "Or you can iterate over the key/value pairs using the items() method, assigning each to its own list as follows:"
   ]
  },
  {
   "cell_type": "code",
   "execution_count": 14,
   "metadata": {
    "collapsed": false
   },
   "outputs": [
    {
     "name": "stdout",
     "output_type": "stream",
     "text": [
      "Male\n",
      "Enrico\n",
      "Dave\n",
      "35\n"
     ]
    }
   ],
   "source": [
    "d = {'First': 'Dave', 'Last': 'Enrico', 'Age': 35, 'Gender': 'Male'}\n",
    "\n",
    "for key, value in d.items():\n",
    "    print(value)"
   ]
  },
  {
   "cell_type": "markdown",
   "metadata": {},
   "source": [
    "If we try to pick an element using a numbered index, we get an error:"
   ]
  },
  {
   "cell_type": "code",
   "execution_count": 15,
   "metadata": {
    "collapsed": false
   },
   "outputs": [
    {
     "ename": "KeyError",
     "evalue": "0",
     "traceback": [
      "\u001b[0;31m---------------------------------------------------------------------------\u001b[0m",
      "\u001b[0;31mKeyError\u001b[0m                                  Traceback (most recent call last)",
      "\u001b[0;32m<ipython-input-15-82ee33458a03>\u001b[0m in \u001b[0;36m<module>\u001b[0;34m()\u001b[0m\n\u001b[1;32m      1\u001b[0m \u001b[0md\u001b[0m \u001b[0;34m=\u001b[0m \u001b[0;34m{\u001b[0m\u001b[0;34m'First'\u001b[0m\u001b[0;34m:\u001b[0m \u001b[0;34m'Dave'\u001b[0m\u001b[0;34m,\u001b[0m \u001b[0;34m'Last'\u001b[0m\u001b[0;34m:\u001b[0m \u001b[0;34m'Enrico'\u001b[0m\u001b[0;34m,\u001b[0m \u001b[0;34m'Age'\u001b[0m\u001b[0;34m:\u001b[0m \u001b[0;36m35\u001b[0m\u001b[0;34m,\u001b[0m \u001b[0;34m'Gender'\u001b[0m\u001b[0;34m:\u001b[0m \u001b[0;34m'Male'\u001b[0m\u001b[0;34m}\u001b[0m\u001b[0;34m\u001b[0m\u001b[0m\n\u001b[0;32m----> 2\u001b[0;31m \u001b[0mprint\u001b[0m\u001b[0;34m(\u001b[0m\u001b[0md\u001b[0m\u001b[0;34m[\u001b[0m\u001b[0;36m0\u001b[0m\u001b[0;34m]\u001b[0m\u001b[0;34m)\u001b[0m\u001b[0;34m\u001b[0m\u001b[0m\n\u001b[0m",
      "\u001b[0;31mKeyError\u001b[0m: 0"
     ],
     "output_type": "error"
    }
   ],
   "source": [
    "d = {'First': 'Dave', 'Last': 'Enrico', 'Age': 35, 'Gender': 'Male'}\n",
    "print(d[0])"
   ]
  },
  {
   "cell_type": "markdown",
   "metadata": {},
   "source": [
    "Instead of using indices like we did with lists, we can edit a dictionary by using a key for assignment as shown here:"
   ]
  },
  {
   "cell_type": "code",
   "execution_count": null,
   "metadata": {
    "collapsed": false
   },
   "outputs": [],
   "source": [
    "d = {'First': 'Dave', 'Last': 'Enrico', 'Age': 35, 'Gender': 'Male'}\n",
    "\n",
    "print(d)\n",
    "\n",
    "d['First'] = 'David'\n",
    "d['Age'] = 25 #yeahright\n",
    "\n",
    "print(d)"
   ]
  },
  {
   "cell_type": "markdown",
   "metadata": {},
   "source": [
    "Finally, we can delete elements of a dictionary using the `del()` function:"
   ]
  },
  {
   "cell_type": "code",
   "execution_count": 1,
   "metadata": {
    "collapsed": false
   },
   "outputs": [
    {
     "name": "stdout",
     "output_type": "stream",
     "text": [
      "{'Last': 'Enrico', 'Age': 35, 'First': 'Dave', 'Gender': 'Male'}\n",
      "{'Last': 'Enrico', 'Age': 35, 'First': 'Dave'}\n"
     ]
    }
   ],
   "source": [
    "d = {'First': 'Dave', 'Last': 'Enrico', 'Age': 35, 'Gender': 'Male'}\n",
    "\n",
    "print(d)\n",
    "\n",
    "del(d['Gender'])\n",
    "\n",
    "print(d)"
   ]
  },
  {
   "cell_type": "code",
   "execution_count": null,
   "metadata": {
    "collapsed": true
   },
   "outputs": [],
   "source": [
    ""
   ]
  }
 ],
 "metadata": {
  "anaconda-cloud": {},
  "kernelspec": {
   "display_name": "Python [default]",
   "language": "python",
   "name": "python3"
  },
  "language_info": {
   "codemirror_mode": {
    "name": "ipython",
    "version": 3.0
   },
   "file_extension": ".py",
   "mimetype": "text/x-python",
   "name": "python",
   "nbconvert_exporter": "python",
   "pygments_lexer": "ipython3",
   "version": "3.5.2"
  }
 },
 "nbformat": 4,
 "nbformat_minor": 0
}